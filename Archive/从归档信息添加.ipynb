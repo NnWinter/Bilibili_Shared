{
 "cells": [
  {
   "cell_type": "code",
   "execution_count": 22,
   "metadata": {
    "dotnet_interactive": {
     "language": "csharp"
    },
    "polyglot_notebook": {
     "kernelName": "csharp"
    },
    "vscode": {
     "languageId": "polyglot-notebook"
    }
   },
   "outputs": [],
   "source": [
    "using System.IO;\n",
    "using Microsoft.DotNet.Interactive;\n",
    "using Newtonsoft.Json;\n",
    "using Newtonsoft.Json.Linq;\n",
    "using System.Text.RegularExpressions;"
   ]
  },
  {
   "cell_type": "code",
   "execution_count": 23,
   "metadata": {
    "dotnet_interactive": {
     "language": "csharp"
    },
    "polyglot_notebook": {
     "kernelName": "csharp"
    },
    "vscode": {
     "languageId": "polyglot-notebook"
    }
   },
   "outputs": [],
   "source": [
    "string archivePath = await Kernel.GetInputAsync(\"输入归档文件路径:\");"
   ]
  },
  {
   "cell_type": "code",
   "execution_count": 24,
   "metadata": {
    "dotnet_interactive": {
     "language": "csharp"
    },
    "polyglot_notebook": {
     "kernelName": "csharp"
    },
    "vscode": {
     "languageId": "polyglot-notebook"
    }
   },
   "outputs": [],
   "source": [
    "var archiveData = JObject.Parse(File.ReadAllText(archivePath));"
   ]
  },
  {
   "cell_type": "code",
   "execution_count": 25,
   "metadata": {
    "dotnet_interactive": {
     "language": "csharp"
    },
    "polyglot_notebook": {
     "kernelName": "csharp"
    },
    "vscode": {
     "languageId": "polyglot-notebook"
    }
   },
   "outputs": [
    {
     "data": {
      "text/plain": [
       "BV1qz4y1K7gm"
      ]
     },
     "metadata": {},
     "output_type": "display_data"
    }
   ],
   "source": [
    "var v_BvId = archiveData[\"VideoInfo\"][\"data\"][\"bvid\"].ToString();\n",
    "v_BvId"
   ]
  },
  {
   "cell_type": "code",
   "execution_count": 26,
   "metadata": {
    "dotnet_interactive": {
     "language": "csharp"
    },
    "polyglot_notebook": {
     "kernelName": "csharp"
    },
    "vscode": {
     "languageId": "polyglot-notebook"
    }
   },
   "outputs": [
    {
     "data": {
      "text/plain": [
       "是不是都把这个神器给忘了，哈哈哈，多好玩，咋就这么招笑呢！"
      ]
     },
     "metadata": {},
     "output_type": "display_data"
    },
    {
     "data": {
      "text/plain": [
       "是不是都把这个神器给忘了哈哈哈多好玩咋就这么招笑呢"
      ]
     },
     "metadata": {},
     "output_type": "display_data"
    }
   ],
   "source": [
    "var v_Title = archiveData[\"VideoInfo\"][\"data\"][\"title\"].ToString();\n",
    "v_Title.Display();\n",
    "\n",
    "string RemoveNonTextCharacters(string input)\n",
    "{\n",
    "    return Regex.Replace(input, @\"[^\\w\\u4e00-\\u9fa5]\", string.Empty);\n",
    "}\n",
    "\n",
    "var v_Title_pure = RemoveNonTextCharacters(v_Title);\n",
    "v_Title_pure"
   ]
  },
  {
   "cell_type": "code",
   "execution_count": 27,
   "metadata": {
    "dotnet_interactive": {
     "language": "csharp"
    },
    "polyglot_notebook": {
     "kernelName": "csharp"
    },
    "vscode": {
     "languageId": "polyglot-notebook"
    }
   },
   "outputs": [
    {
     "data": {
      "text/plain": [
       "李三金测评 3493120385747735"
      ]
     },
     "metadata": {},
     "output_type": "display_data"
    }
   ],
   "source": [
    "var v_Auther = archiveData[\"VideoInfo\"][\"data\"][\"owner\"];\n",
    "var v_AutherStr = $\"{v_Auther[\"name\"]} {v_Auther[\"mid\"]}\";\n",
    "var v_AutherName = $\"{v_Auther[\"name\"]}\";\n",
    "v_AutherStr"
   ]
  },
  {
   "cell_type": "code",
   "execution_count": 28,
   "metadata": {
    "dotnet_interactive": {
     "language": "csharp"
    },
    "polyglot_notebook": {
     "kernelName": "csharp"
    },
    "vscode": {
     "languageId": "polyglot-notebook"
    }
   },
   "outputs": [
    {
     "data": {
      "text/plain": [
       "True True True True"
      ]
     },
     "metadata": {},
     "output_type": "display_data"
    }
   ],
   "source": [
    "bool v_HasVideo = archiveData[\"VideoInfo\"][\"data\"][\"videos\"].ToString() != \"0\";\n",
    "bool v_HasComment = archiveData[\"Replies\"].HasValues;\n",
    "bool v_HasDanmaku_xml = !string.IsNullOrWhiteSpace(archiveData[\"DanmakuXml\"].ToString());\n",
    "bool v_HasDanmaku_ass = !string.IsNullOrWhiteSpace(archiveData[\"DanmakuAss\"].ToString());\n",
    "\n",
    "$\"{v_HasVideo} {v_HasComment} {v_HasDanmaku_xml} {v_HasDanmaku_ass}\".Display();"
   ]
  },
  {
   "cell_type": "code",
   "execution_count": 29,
   "metadata": {
    "dotnet_interactive": {
     "language": "csharp"
    },
    "polyglot_notebook": {
     "kernelName": "csharp"
    },
    "vscode": {
     "languageId": "polyglot-notebook"
    }
   },
   "outputs": [
    {
     "data": {
      "text/plain": [
       "1182"
      ]
     },
     "metadata": {},
     "output_type": "display_data"
    }
   ],
   "source": [
    "string archiveId = new string((await Kernel.GetInputAsync(\"输入归档网址:\")).Reverse().TakeWhile(char.IsDigit).Reverse().ToArray());\n",
    "archiveId"
   ]
  },
  {
   "cell_type": "code",
   "execution_count": 30,
   "metadata": {
    "dotnet_interactive": {
     "language": "csharp"
    },
    "polyglot_notebook": {
     "kernelName": "csharp"
    },
    "vscode": {
     "languageId": "polyglot-notebook"
    }
   },
   "outputs": [
    {
     "data": {
      "text/plain": [
       "| BV1qz4y1K7gm | 是不是都把这个神器给忘了，哈哈哈，多好玩，咋就这么招笑呢！ | ⚪ | ⚪ | ⚪ | ⚪ | 李三金测评 | 1182 |"
      ]
     },
     "metadata": {},
     "output_type": "display_data"
    }
   ],
   "source": [
    "const string TRUE_SYMBOL = \"⚪\";\n",
    "const string FALSE_SYMBOL = \" \";\n",
    "const string filePath = \"Readme.md\";\n",
    "\n",
    "string s_hasVideo = v_HasVideo ? TRUE_SYMBOL : FALSE_SYMBOL;\n",
    "string s_hasComment = v_HasComment ? TRUE_SYMBOL : FALSE_SYMBOL;\n",
    "string s_hasDanmakuXml = v_HasDanmaku_xml ? TRUE_SYMBOL : FALSE_SYMBOL;\n",
    "string s_hasDanmakuAss = v_HasDanmaku_ass ? TRUE_SYMBOL : FALSE_SYMBOL;\n",
    "\n",
    "string append_str = $\"| {v_BvId} | {v_Title} | {s_hasVideo} | {s_hasComment} | {s_hasDanmakuXml} | {s_hasDanmakuAss} | {v_AutherName} | {archiveId} |\";\n",
    "append_str"
   ]
  },
  {
   "cell_type": "code",
   "execution_count": 31,
   "metadata": {
    "dotnet_interactive": {
     "language": "csharp"
    },
    "polyglot_notebook": {
     "kernelName": "csharp"
    },
    "vscode": {
     "languageId": "polyglot-notebook"
    }
   },
   "outputs": [],
   "source": [
    "File.AppendAllText(filePath, append_str + \"\\n\");"
   ]
  }
 ],
 "metadata": {
  "language_info": {
   "name": "python"
  },
  "orig_nbformat": 4
 },
 "nbformat": 4,
 "nbformat_minor": 2
}
