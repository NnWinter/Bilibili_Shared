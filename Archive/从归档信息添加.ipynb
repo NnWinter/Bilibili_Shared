{
 "cells": [
  {
   "cell_type": "code",
   "execution_count": 12,
   "metadata": {
    "dotnet_interactive": {
     "language": "csharp"
    },
    "polyglot_notebook": {
     "kernelName": "csharp"
    },
    "vscode": {
     "languageId": "polyglot-notebook"
    }
   },
   "outputs": [],
   "source": [
    "using System.IO;\n",
    "using Microsoft.DotNet.Interactive;\n",
    "using Newtonsoft.Json;\n",
    "using Newtonsoft.Json.Linq;\n",
    "using System.Text.RegularExpressions;"
   ]
  },
  {
   "cell_type": "code",
   "execution_count": 3,
   "metadata": {
    "vscode": {
     "languageId": "polyglot-notebook"
    }
   },
   "outputs": [],
   "source": [
    "string archivePath = await Kernel.GetInputAsync(\"输入归档文件路径:\");"
   ]
  },
  {
   "cell_type": "code",
   "execution_count": 7,
   "metadata": {
    "dotnet_interactive": {
     "language": "csharp"
    },
    "polyglot_notebook": {
     "kernelName": "csharp"
    },
    "vscode": {
     "languageId": "polyglot-notebook"
    }
   },
   "outputs": [],
   "source": [
    "var archiveData = JObject.Parse(File.ReadAllText(archivePath));"
   ]
  },
  {
   "cell_type": "code",
   "execution_count": 8,
   "metadata": {
    "dotnet_interactive": {
     "language": "csharp"
    },
    "polyglot_notebook": {
     "kernelName": "csharp"
    },
    "vscode": {
     "languageId": "polyglot-notebook"
    }
   },
   "outputs": [
    {
     "data": {
      "text/plain": [
       "BV1P841167ep"
      ]
     },
     "metadata": {},
     "output_type": "display_data"
    }
   ],
   "source": [
    "var v_BvId = archiveData[\"VideoInfo\"][\"data\"][\"bvid\"].ToString();\n",
    "v_BvId"
   ]
  },
  {
   "cell_type": "code",
   "execution_count": 16,
   "metadata": {
    "dotnet_interactive": {
     "language": "csharp"
    },
    "polyglot_notebook": {
     "kernelName": "csharp"
    },
    "vscode": {
     "languageId": "polyglot-notebook"
    }
   },
   "outputs": [
    {
     "data": {
      "text/plain": [
       "8u出征，寸草不生"
      ]
     },
     "metadata": {},
     "output_type": "display_data"
    },
    {
     "data": {
      "text/plain": [
       "8u出征寸草不生"
      ]
     },
     "metadata": {},
     "output_type": "display_data"
    }
   ],
   "source": [
    "var v_Title = archiveData[\"VideoInfo\"][\"data\"][\"title\"].ToString();\n",
    "v_Title.Display();\n",
    "\n",
    "string RemoveNonTextCharacters(string input)\n",
    "{\n",
    "    return Regex.Replace(input, @\"[^\\w\\u4e00-\\u9fa5]\", string.Empty);\n",
    "}\n",
    "\n",
    "var v_Title_pure = RemoveNonTextCharacters(v_Title);\n",
    "v_Title_pure"
   ]
  },
  {
   "cell_type": "code",
   "execution_count": 19,
   "metadata": {
    "dotnet_interactive": {
     "language": "csharp"
    },
    "polyglot_notebook": {
     "kernelName": "csharp"
    },
    "vscode": {
     "languageId": "polyglot-notebook"
    }
   },
   "outputs": [
    {
     "data": {
      "text/plain": [
       "大爱盟人海办事处 514536028"
      ]
     },
     "metadata": {},
     "output_type": "display_data"
    }
   ],
   "source": [
    "var v_Auther = archiveData[\"VideoInfo\"][\"data\"][\"owner\"];\n",
    "var v_AutherStr = $\"{v_Auther[\"name\"]} {v_Auther[\"mid\"]}\";\n",
    "var v_AutherName = $\"{v_Auther[\"name\"]}\";\n",
    "v_AutherStr"
   ]
  },
  {
   "cell_type": "code",
   "execution_count": 14,
   "metadata": {
    "dotnet_interactive": {
     "language": "csharp"
    },
    "polyglot_notebook": {
     "kernelName": "csharp"
    },
    "vscode": {
     "languageId": "polyglot-notebook"
    }
   },
   "outputs": [
    {
     "data": {
      "text/plain": [
       "True True True True"
      ]
     },
     "metadata": {},
     "output_type": "display_data"
    }
   ],
   "source": [
    "bool v_HasVideo = archiveData[\"VideoInfo\"][\"data\"][\"videos\"].ToString() != \"0\";\n",
    "bool v_HasComment = archiveData[\"Replies\"].HasValues;\n",
    "bool v_HasDanmaku_xml = !string.IsNullOrWhiteSpace(archiveData[\"DanmakuXml\"].ToString());\n",
    "bool v_HasDanmaku_ass = !string.IsNullOrWhiteSpace(archiveData[\"DanmakuAss\"].ToString());\n",
    "\n",
    "$\"{v_HasVideo} {v_HasComment} {v_HasDanmaku_xml} {v_HasDanmaku_ass}\".Display();"
   ]
  },
  {
   "cell_type": "code",
   "execution_count": 24,
   "metadata": {
    "dotnet_interactive": {
     "language": "csharp"
    },
    "polyglot_notebook": {
     "kernelName": "csharp"
    },
    "vscode": {
     "languageId": "polyglot-notebook"
    }
   },
   "outputs": [
    {
     "data": {
      "text/plain": [
       "1175"
      ]
     },
     "metadata": {},
     "output_type": "display_data"
    }
   ],
   "source": [
    "string archiveId = new string((await Kernel.GetInputAsync(\"输入归档网址:\")).Reverse().TakeWhile(char.IsDigit).Reverse().ToArray());\n",
    "archiveId"
   ]
  },
  {
   "cell_type": "code",
   "execution_count": 25,
   "metadata": {
    "dotnet_interactive": {
     "language": "csharp"
    },
    "polyglot_notebook": {
     "kernelName": "csharp"
    },
    "vscode": {
     "languageId": "polyglot-notebook"
    }
   },
   "outputs": [
    {
     "data": {
      "text/plain": [
       "| BV1P841167ep | 8u出征，寸草不生 | ⚪ | ⚪ | ⚪ | ⚪ | 大爱盟人海办事处 | 1175 |"
      ]
     },
     "metadata": {},
     "output_type": "display_data"
    }
   ],
   "source": [
    "const string TRUE_SYMBOL = \"⚪\";\n",
    "const string FALSE_SYMBOL = \" \";\n",
    "const string filePath = \"Readme.md\";\n",
    "\n",
    "string s_hasVideo = v_HasVideo ? TRUE_SYMBOL : FALSE_SYMBOL;\n",
    "string s_hasComment = v_HasComment ? TRUE_SYMBOL : FALSE_SYMBOL;\n",
    "string s_hasDanmakuXml = v_HasDanmaku_xml ? TRUE_SYMBOL : FALSE_SYMBOL;\n",
    "string s_hasDanmakuAss = v_HasDanmaku_ass ? TRUE_SYMBOL : FALSE_SYMBOL;\n",
    "\n",
    "string append_str = $\"| {v_BvId} | {v_Title} | {s_hasVideo} | {s_hasComment} | {s_hasDanmakuXml} | {s_hasDanmakuAss} | {v_AutherName} | {archiveId} |\";\n",
    "append_str"
   ]
  },
  {
   "cell_type": "code",
   "execution_count": 21,
   "metadata": {
    "dotnet_interactive": {
     "language": "csharp"
    },
    "polyglot_notebook": {
     "kernelName": "csharp"
    },
    "vscode": {
     "languageId": "polyglot-notebook"
    }
   },
   "outputs": [],
   "source": [
    "File.AppendAllText(filePath, append_str + \"\\n\");"
   ]
  }
 ],
 "metadata": {
  "language_info": {
   "name": "python"
  },
  "orig_nbformat": 4
 },
 "nbformat": 4,
 "nbformat_minor": 2
}
