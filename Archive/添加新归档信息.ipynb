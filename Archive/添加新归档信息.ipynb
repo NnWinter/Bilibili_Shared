{
 "cells": [
  {
   "cell_type": "markdown",
   "metadata": {},
   "source": [
    "本代码使用的是.Net框架，不是python。  \n",
    "使用时直接运行全部"
   ]
  },
  {
   "cell_type": "code",
   "execution_count": 35,
   "metadata": {
    "dotnet_interactive": {
     "language": "csharp"
    },
    "polyglot_notebook": {
     "kernelName": "csharp"
    },
    "vscode": {
     "languageId": "polyglot-notebook"
    }
   },
   "outputs": [],
   "source": [
    "#nullable enable\n",
    "\n",
    "using System.IO;\n",
    "using Microsoft.DotNet.Interactive;\n",
    "\n",
    "const string filePath = \"B站视频+评论+弹幕备份.json\";\n",
    "\n",
    "struct BVArchive\n",
    "{\n",
    "    public string BV; // 视频BV号\n",
    "    public string Title; // 视频标题\n",
    "    public DateTime PubDate; // 视频发布时间\n",
    "    public string Description; // 视频简介\n",
    "    public DateTime ArchiveDate; // 归档时间\n",
    "    public string? Video; // 是否有视频, 没有就是null, 有就是归档编码\n",
    "    public string? Danmaku; // 是否有弹幕\n",
    "    public string? Comment; // 是否有评论\n",
    "\n",
    "    public BVArchive(string bv, string title, DateTime pubDate, string description, DateTime archiveDate, string? video, string? danmaku, string? comment)\n",
    "    {\n",
    "        BV = bv;\n",
    "        Title = title;\n",
    "        PubDate = pubDate;\n",
    "        Description = description;\n",
    "        ArchiveDate = archiveDate;\n",
    "        Video = video;\n",
    "        Danmaku = danmaku;\n",
    "        Comment = comment;\n",
    "    }\n",
    "}"
   ]
  },
  {
   "cell_type": "markdown",
   "metadata": {},
   "source": [
    "新行分隔的JSON（NDJSON）格式  \n",
    "每一行是一个独立的JSON对象"
   ]
  },
  {
   "cell_type": "code",
   "execution_count": 36,
   "metadata": {
    "dotnet_interactive": {
     "language": "csharp"
    },
    "polyglot_notebook": {
     "kernelName": "csharp"
    },
    "vscode": {
     "languageId": "polyglot-notebook"
    }
   },
   "outputs": [],
   "source": [
    "(string inlineJson, string indentedJson)\n",
    "GetJsonText(BVArchive archiveData)\n",
    "{\n",
    "    return (\n",
    "        Newtonsoft.Json.JsonConvert.SerializeObject(archiveData),\n",
    "        Newtonsoft.Json.JsonConvert.SerializeObject(archiveData, Newtonsoft.Json.Formatting.Indented)\n",
    "    );\n",
    "}\n",
    "\n",
    "void AppendToJsonFile(string jsonText)\n",
    "{\n",
    "    File.AppendAllText(filePath, jsonText + Environment.NewLine);\n",
    "}"
   ]
  },
  {
   "cell_type": "code",
   "execution_count": 37,
   "metadata": {
    "dotnet_interactive": {
     "language": "csharp"
    },
    "polyglot_notebook": {
     "kernelName": "csharp"
    },
    "vscode": {
     "languageId": "polyglot-notebook"
    }
   },
   "outputs": [
    {
     "data": {
      "text/plain": [
       "BV1mm4y1T7DW"
      ]
     },
     "metadata": {},
     "output_type": "display_data"
    }
   ],
   "source": [
    "string oid = await Kernel.GetInputAsync(\"输入视频的BV号: \");\n",
    "oid"
   ]
  },
  {
   "cell_type": "code",
   "execution_count": 38,
   "metadata": {
    "dotnet_interactive": {
     "language": "csharp"
    },
    "polyglot_notebook": {
     "kernelName": "csharp"
    },
    "vscode": {
     "languageId": "polyglot-notebook"
    }
   },
   "outputs": [
    {
     "data": {
      "text/plain": [
       "【风尘仆仆为何往，物是人非君不见-哔哩哔哩】 "
      ]
     },
     "metadata": {},
     "output_type": "display_data"
    }
   ],
   "source": [
    "string title = await Kernel.GetInputAsync(\"输入视频的标题: \");\n",
    "title"
   ]
  },
  {
   "cell_type": "code",
   "execution_count": 39,
   "metadata": {
    "dotnet_interactive": {
     "language": "csharp"
    },
    "polyglot_notebook": {
     "kernelName": "csharp"
    },
    "vscode": {
     "languageId": "polyglot-notebook"
    }
   },
   "outputs": [
    {
     "data": {
      "text/html": [
       "<span>2023-08-31 20:19:18Z</span>"
      ]
     },
     "metadata": {},
     "output_type": "display_data"
    }
   ],
   "source": [
    "string pubDate_str = await Kernel.GetInputAsync($\"输入视频的发布时间({videoDateTimeFormat}): \");\n",
    "DateTime pubDate = DateTime.ParseExact(pubDate_str, videoDateTimeFormat, null);\n",
    "pubDate"
   ]
  },
  {
   "cell_type": "code",
   "execution_count": 40,
   "metadata": {
    "dotnet_interactive": {
     "language": "csharp"
    },
    "polyglot_notebook": {
     "kernelName": "csharp"
    },
    "vscode": {
     "languageId": "polyglot-notebook"
    }
   },
   "outputs": [
    {
     "data": {
      "text/plain": [
       "-"
      ]
     },
     "metadata": {},
     "output_type": "display_data"
    }
   ],
   "source": [
    "string description = await Kernel.GetInputAsync(\"输入视频的简介: \");\n",
    "description"
   ]
  },
  {
   "cell_type": "code",
   "execution_count": 41,
   "metadata": {
    "dotnet_interactive": {
     "language": "csharp"
    },
    "polyglot_notebook": {
     "kernelName": "csharp"
    },
    "vscode": {
     "languageId": "polyglot-notebook"
    }
   },
   "outputs": [
    {
     "data": {
      "text/html": [
       "<span>2023-09-01 01:45:00Z</span>"
      ]
     },
     "metadata": {},
     "output_type": "display_data"
    }
   ],
   "source": [
    "string archiveDate_str = await Kernel.GetInputAsync($\"输入归档时间({archiveDateTimeFormat}): \");\n",
    "DateTime archiveDate = DateTime.ParseExact(archiveDate_str, archiveDateTimeFormat, null);\n",
    "archiveDate"
   ]
  },
  {
   "cell_type": "code",
   "execution_count": 42,
   "metadata": {
    "dotnet_interactive": {
     "language": "csharp"
    },
    "polyglot_notebook": {
     "kernelName": "csharp"
    },
    "vscode": {
     "languageId": "polyglot-notebook"
    }
   },
   "outputs": [
    {
     "data": {
      "text/plain": [
       "1167"
      ]
     },
     "metadata": {},
     "output_type": "display_data"
    }
   ],
   "source": [
    "#nullable enable\n",
    "string? video = await Kernel.GetInputAsync(\"是否有视频(有就输入归档编码, 没有就直接回车): \");\n",
    "if(string.IsNullOrWhiteSpace(video)){video = null;}\n",
    "video"
   ]
  },
  {
   "cell_type": "code",
   "execution_count": 43,
   "metadata": {
    "dotnet_interactive": {
     "language": "csharp"
    },
    "polyglot_notebook": {
     "kernelName": "csharp"
    },
    "vscode": {
     "languageId": "polyglot-notebook"
    }
   },
   "outputs": [
    {
     "data": {
      "text/plain": [
       "1170,1174"
      ]
     },
     "metadata": {},
     "output_type": "display_data"
    }
   ],
   "source": [
    "#nullable enable\n",
    "string? danmaku = await Kernel.GetInputAsync(\"是否有弹幕(有就输入归档编码, 没有就直接回车): \");\n",
    "if(string.IsNullOrWhiteSpace(danmaku)){danmaku = null;}\n",
    "danmaku"
   ]
  },
  {
   "cell_type": "code",
   "execution_count": 44,
   "metadata": {
    "vscode": {
     "languageId": "polyglot-notebook"
    }
   },
   "outputs": [
    {
     "data": {
      "text/plain": [
       "1170"
      ]
     },
     "metadata": {},
     "output_type": "display_data"
    }
   ],
   "source": [
    "#nullable enable\n",
    "string? comment = await Kernel.GetInputAsync(\"是否有评论(有就输入归档编码, 没有就直接回车): \");\n",
    "if(string.IsNullOrWhiteSpace(comment)){comment = null;}\n",
    "comment"
   ]
  },
  {
   "cell_type": "code",
   "execution_count": 45,
   "metadata": {
    "dotnet_interactive": {
     "language": "csharp"
    },
    "polyglot_notebook": {
     "kernelName": "csharp"
    },
    "vscode": {
     "languageId": "polyglot-notebook"
    }
   },
   "outputs": [
    {
     "data": {
      "text/plain": [
       "归档完成: "
      ]
     },
     "metadata": {},
     "output_type": "display_data"
    },
    {
     "data": {
      "text/plain": [
       "{\r\n",
       "  \"BV\": \"BV1mm4y1T7DW\",\r\n",
       "  \"Title\": \"【风尘仆仆为何往，物是人非君不见-哔哩哔哩】 \",\r\n",
       "  \"PubDate\": \"2023-08-31T20:19:18\",\r\n",
       "  \"Description\": \"-\",\r\n",
       "  \"ArchiveDate\": \"2023-09-01T01:45:00\",\r\n",
       "  \"Video\": \"1167\",\r\n",
       "  \"Danmaku\": \"1170,1174\",\r\n",
       "  \"Comment\": \"1170\"\r\n",
       "}"
      ]
     },
     "metadata": {},
     "output_type": "display_data"
    }
   ],
   "source": [
    "var archive = new BVArchive(oid, title, pubDate, description, archiveDate, video, danmaku, comment);\n",
    "var archJsonText = GetJsonText(archive);\n",
    "AppendToJsonFile(archJsonText.inlineJson);\n",
    "\n",
    "display(\"归档完成: \");\n",
    "display(archJsonText.indentedJson);"
   ]
  }
 ],
 "metadata": {
  "language_info": {
   "name": "python"
  },
  "orig_nbformat": 4
 },
 "nbformat": 4,
 "nbformat_minor": 2
}
