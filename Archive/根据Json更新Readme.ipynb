{
 "cells": [
  {
   "cell_type": "code",
   "execution_count": 11,
   "metadata": {
    "dotnet_interactive": {
     "language": "csharp"
    },
    "polyglot_notebook": {
     "kernelName": "csharp"
    },
    "vscode": {
     "languageId": "polyglot-notebook"
    }
   },
   "outputs": [],
   "source": [
    "using System.Text.RegularExpressions;\n",
    "using System.IO;\n",
    "using Newtonsoft.Json;"
   ]
  },
  {
   "cell_type": "code",
   "execution_count": 12,
   "metadata": {
    "dotnet_interactive": {
     "language": "csharp"
    },
    "polyglot_notebook": {
     "kernelName": "csharp"
    },
    "vscode": {
     "languageId": "polyglot-notebook"
    }
   },
   "outputs": [],
   "source": [
    "#nullable enable\n",
    "\n",
    "struct BVArchive\n",
    "{\n",
    "    public string BV; // 视频BV号\n",
    "    public string Title; // 视频标题\n",
    "    public string Auther; // 视频作者\n",
    "    public DateTime PubDate; // 视频发布时间\n",
    "    public string Description; // 视频简介\n",
    "    public DateTime ArchiveDate; // 归档时间\n",
    "    public string? Video; // 是否有视频, 没有就是null, 有就是归档编码\n",
    "    public string? Danmaku; // 是否有弹幕\n",
    "    public string? Comment; // 是否有评论\n",
    "\n",
    "    public BVArchive(string bv, string title, string auther, DateTime pubDate, string description, DateTime archiveDate, string? video, string? danmaku, string? comment)\n",
    "    {\n",
    "        BV = bv;\n",
    "        Title = title;\n",
    "        Auther = auther;\n",
    "        PubDate = pubDate;\n",
    "        Description = description;\n",
    "        ArchiveDate = archiveDate;\n",
    "        Video = video;\n",
    "        Danmaku = danmaku;\n",
    "        Comment = comment;\n",
    "    }\n",
    "}"
   ]
  },
  {
   "cell_type": "markdown",
   "metadata": {},
   "source": [
    "此处开始是反向编程（预定义后置函数）"
   ]
  },
  {
   "cell_type": "code",
   "execution_count": 13,
   "metadata": {
    "dotnet_interactive": {
     "language": "csharp"
    },
    "polyglot_notebook": {
     "kernelName": "csharp"
    },
    "vscode": {
     "languageId": "polyglot-notebook"
    }
   },
   "outputs": [],
   "source": [
    "BVArchive GetArchiveFromLine(string line)\n",
    "{\n",
    "    return JsonConvert.DeserializeObject<BVArchive>(line);\n",
    "}"
   ]
  },
  {
   "cell_type": "code",
   "execution_count": 14,
   "metadata": {
    "dotnet_interactive": {
     "language": "csharp"
    },
    "polyglot_notebook": {
     "kernelName": "csharp"
    },
    "vscode": {
     "languageId": "polyglot-notebook"
    }
   },
   "outputs": [],
   "source": [
    "const string TRUE_SYMBOL = \"⚪\";\n",
    "const string FALSE_SYMBOL = \" \";\n",
    "const string filePath = \"Readme.md\";\n",
    "const string JsonPath = \"B站视频+评论+弹幕备份.json\";\n",
    "const string md_heading = \n",
    "    \"# 已归档的视频\\n\" +\n",
    "    $\"'{TRUE_SYMBOL}' 表示含有, '{FALSE_SYMBOL}' 表示没有\\n\"+\n",
    "    \"| BV号 | 标题 | 视频 | 弹幕 | 评论 | 作者 |\\n\" +\n",
    "    \"| :-- | :--: | :--: | :--: | :--: | :-- |\\n\";\n",
    "\n",
    "var md_sw = File.CreateText(filePath);\n",
    "md_sw.Write(md_heading);\n",
    "md_sw.Flush();"
   ]
  },
  {
   "cell_type": "code",
   "execution_count": 15,
   "metadata": {
    "dotnet_interactive": {
     "language": "csharp"
    },
    "polyglot_notebook": {
     "kernelName": "csharp"
    },
    "vscode": {
     "languageId": "polyglot-notebook"
    }
   },
   "outputs": [],
   "source": [
    "// 这部分是用来 DEBUG 的\n",
    "// md_sw.Close();\n",
    "// md_sw.Dispose();"
   ]
  },
  {
   "cell_type": "markdown",
   "metadata": {},
   "source": [
    "用于删除文本中 非 中文/英文/数字 字符的方法："
   ]
  },
  {
   "cell_type": "code",
   "execution_count": 16,
   "metadata": {
    "dotnet_interactive": {
     "language": "csharp"
    },
    "polyglot_notebook": {
     "kernelName": "csharp"
    },
    "vscode": {
     "languageId": "polyglot-notebook"
    }
   },
   "outputs": [],
   "source": [
    "string RemoveNonTextCharacters(string input)\n",
    "{\n",
    "    return Regex.Replace(input, @\"[^\\w\\u4e00-\\u9fa5]\", string.Empty);\n",
    "}"
   ]
  },
  {
   "cell_type": "code",
   "execution_count": 17,
   "metadata": {
    "dotnet_interactive": {
     "language": "csharp"
    },
    "polyglot_notebook": {
     "kernelName": "csharp"
    },
    "vscode": {
     "languageId": "polyglot-notebook"
    }
   },
   "outputs": [],
   "source": [
    "string GetLineStringFromArchive(BVArchive archive)\n",
    "{\n",
    "    string bv = archive.BV;\n",
    "    string title = RemoveNonTextCharacters(archive.Title).Replace(\"哔哩哔哩\",\"\");\n",
    "    string hasVideo = archive.Video != null ? TRUE_SYMBOL : FALSE_SYMBOL;\n",
    "    string hasDanmaku = archive.Danmaku != null ? TRUE_SYMBOL : FALSE_SYMBOL;\n",
    "    string hasComment = archive.Comment != null ? TRUE_SYMBOL : FALSE_SYMBOL;\n",
    "    string auther = string.Concat(archive.Auther.TakeWhile(x=>x!=' ')); //只保留名字\n",
    "\n",
    "    return $\"| {bv} | {title} | {hasVideo} | {hasDanmaku} | {hasComment} | {auther}\";\n",
    "}"
   ]
  },
  {
   "cell_type": "markdown",
   "metadata": {},
   "source": [
    "读取 json，输出到 readme"
   ]
  },
  {
   "cell_type": "code",
   "execution_count": 18,
   "metadata": {
    "dotnet_interactive": {
     "language": "csharp"
    },
    "polyglot_notebook": {
     "kernelName": "csharp"
    },
    "vscode": {
     "languageId": "polyglot-notebook"
    }
   },
   "outputs": [],
   "source": [
    "var json_sr = File.OpenText(JsonPath);\n",
    "while (!json_sr.EndOfStream)\n",
    "{\n",
    "    var line = json_sr.ReadLine();\n",
    "    var archive = GetArchiveFromLine(line);\n",
    "    var md_line = GetLineStringFromArchive(archive);\n",
    "    md_sw.WriteLine(md_line);\n",
    "}"
   ]
  },
  {
   "cell_type": "markdown",
   "metadata": {},
   "source": [
    "结束后要关闭流哇"
   ]
  },
  {
   "cell_type": "code",
   "execution_count": 19,
   "metadata": {
    "dotnet_interactive": {
     "language": "csharp"
    },
    "polyglot_notebook": {
     "kernelName": "csharp"
    },
    "vscode": {
     "languageId": "polyglot-notebook"
    }
   },
   "outputs": [],
   "source": [
    "md_sw.Flush();\n",
    "md_sw.Close();\n",
    "md_sw.Dispose();\n",
    "json_sr.Close();\n",
    "json_sr.Dispose();"
   ]
  }
 ],
 "metadata": {
  "language_info": {
   "name": "python"
  },
  "orig_nbformat": 4
 },
 "nbformat": 4,
 "nbformat_minor": 2
}
